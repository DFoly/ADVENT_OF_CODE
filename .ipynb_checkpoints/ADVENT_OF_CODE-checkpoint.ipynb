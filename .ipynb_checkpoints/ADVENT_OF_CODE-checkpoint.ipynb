{
 "cells": [
  {
   "cell_type": "markdown",
   "id": "16d635e8-6728-4742-b8fe-db4799a2862e",
   "metadata": {},
   "source": [
    "## Day 1"
   ]
  },
  {
   "cell_type": "code",
   "execution_count": 43,
   "id": "511fc837-a141-4c4c-95b9-866dda7b6c92",
   "metadata": {},
   "outputs": [],
   "source": [
    "import pandas as pd\n",
    "import numpy as np\n",
    "from typing import Tuple"
   ]
  },
  {
   "cell_type": "code",
   "execution_count": 58,
   "id": "72beca93-24c0-486a-a3fe-00c35117ae86",
   "metadata": {},
   "outputs": [
    {
     "data": {
      "text/plain": [
       "1579939"
      ]
     },
     "execution_count": 58,
     "metadata": {},
     "output_type": "execute_result"
    }
   ],
   "source": [
    "def parse_file(filename)-> Tuple:\n",
    "    left_l, right_r = [], []\n",
    "    with open(filename, 'r') as file:\n",
    "        for line in file.read().splitlines():\n",
    "            # Print each line\n",
    "            l, r = line.split()\n",
    "            left_l.append(int(l))\n",
    "            right_r.append(int(r))\n",
    "    return left_l, right_r\n",
    "\n",
    "\n",
    "def compute_delta(left_array, right_array):\n",
    "    left_array.sort()\n",
    "    right_array.sort()\n",
    "    delta_list = []\n",
    "    for l, r in zip(left_array, right_array):\n",
    "        l = int(l)\n",
    "        r = int(r)\n",
    "        delta = abs(l-r)\n",
    "        delta_list.append(delta)\n",
    "        \n",
    "    return sum(delta_list)\n",
    "\n",
    "\n",
    "filename = 'day1/day1.txt'\n",
    "left, right = parse_file(filename)\n",
    "ans = compute_delta(left, right)\n",
    "ans"
   ]
  },
  {
   "cell_type": "code",
   "execution_count": 57,
   "id": "b31b7003-8d62-4ec6-8e1d-cefd2c58eb18",
   "metadata": {},
   "outputs": [
    {
     "data": {
      "text/plain": [
       "20351745"
      ]
     },
     "execution_count": 57,
     "metadata": {},
     "output_type": "execute_result"
    }
   ],
   "source": [
    "# Part 2: how often does the numbers in left list appear in right list\n",
    "# get unique numbers in left list\n",
    "matching_numbers = set(left).intersection(set(right))\n",
    "hash_map = {}\n",
    "\n",
    "for i in right:\n",
    "    if i in matching_numbers and i not in hash_map:\n",
    "        hash_map[i] = 1\n",
    "    elif i in matching_numbers and i in hash_map:\n",
    "         hash_map[i] += 1\n",
    "ans = sum([k*v for k, v in hash_map.items()])\n",
    "ans"
   ]
  },
  {
   "cell_type": "markdown",
   "id": "3aa0056b-703c-4377-9c72-7701f2840868",
   "metadata": {},
   "source": [
    "## Day 2\n",
    "- Part 1: 371\n",
    "- Part 2: "
   ]
  },
  {
   "cell_type": "code",
   "execution_count": 99,
   "id": "1c9f503a-c0ff-460b-a0cd-71a614f94e1c",
   "metadata": {},
   "outputs": [
    {
     "data": {
      "text/plain": [
       "345"
      ]
     },
     "execution_count": 99,
     "metadata": {},
     "output_type": "execute_result"
    }
   ],
   "source": [
    "filename = 'day2/day2.txt'\n",
    "results = []\n",
    "with open(filename, 'r') as file:\n",
    "        for line in file.read().splitlines():\n",
    "            l = line.split()\n",
    "            check = True\n",
    "            # If ascending or desc then sorted should be the same as l\n",
    "            if sorted(l) == l or sorted(l, reverse=True) == l:\n",
    "                # check for gaps in indices\n",
    "                for i in range(1, len(l)):\n",
    "                    delta =  abs(int(l[i-1]) - int(l[i]))\n",
    "                    if  delta not in (1,2,3): # 0 if the same which is not strictly decreasing\n",
    "                        check = False\n",
    "                        break\n",
    "                if check == False:\n",
    "                        results.append(False)\n",
    "                else:\n",
    "                    results.append(True)\n",
    "            else:\n",
    "                results.append(False)\n",
    "sum(results)"
   ]
  },
  {
   "cell_type": "code",
   "execution_count": 108,
   "id": "5784e0a6-3eb9-4c38-b9f1-e1a4c92557ec",
   "metadata": {},
   "outputs": [
    {
     "data": {
      "text/plain": [
       "371"
      ]
     },
     "execution_count": 108,
     "metadata": {},
     "output_type": "execute_result"
    }
   ],
   "source": [
    "# acceptance = [1,2,3]\n",
    "# safe_list = 0\n",
    "# filename = 'day2/day2.txt'\n",
    "\n",
    "# with open(filename, 'r') as file:\n",
    "#     data = file.read()\n",
    "    \n",
    "# for i in data.splitlines():\n",
    "#     i = i.split()\n",
    "#     list_len = (len(i))\n",
    "#     asc = 0\n",
    "#     desc = 0\n",
    "#     #mistake_handler = 0\n",
    "#     for itrr in range(0, list_len-1):\n",
    "#         first = int(i[itrr])\n",
    "#         second = int(i[itrr+1])\n",
    "#         if (first > second and abs(first -second) in acceptance):\n",
    "#             asc += 1\n",
    "            \n",
    "#         if (first < second and abs(first - second) in acceptance):\n",
    "#             desc += 1\n",
    "\n",
    "#     if asc == list_len-1 or desc == list_len-1:\n",
    "#         results.append(True)\n",
    "#     else:\n",
    "#         results.append(False)\n",
    "# sum(results)"
   ]
  },
  {
   "cell_type": "code",
   "execution_count": 192,
   "id": "37444dd0-846f-4b48-9efd-9f5b26d3eac0",
   "metadata": {},
   "outputs": [
    {
     "data": {
      "text/plain": [
       "2"
      ]
     },
     "execution_count": 192,
     "metadata": {},
     "output_type": "execute_result"
    }
   ],
   "source": [
    "filename = 'day2/day2_test.txt'\n",
    "with open(filename, 'r') as file:\n",
    "    data = file.read()\n",
    "\n",
    "\n",
    "def is_safe(arr, safe_range):\n",
    "    for i in range(1, len(arr)):\n",
    "        if arr[i] - arr[i-1] not in safe_range:\n",
    "            return False\n",
    "\n",
    "    return True\n",
    "\n",
    "def day2_puzzle(data):    \n",
    "    increasing = [0,1,2,3]\n",
    "    decreasing = [-3,-2,-1]\n",
    "    safe = 0\n",
    "    for line in data.split('\\n'):\n",
    "        seq = [int(i) for i in line.split()]\n",
    "        safe += is_safe(seq, increasing) or is_safe(seq, decreasing)\n",
    "        \n",
    "    return safe\n",
    "\n",
    "day2_puzzle(data)"
   ]
  },
  {
   "cell_type": "code",
   "execution_count": 225,
   "id": "678d70b5-e6f6-4648-a1fa-409a4a20d20d",
   "metadata": {},
   "outputs": [],
   "source": [
    "# def problem_dampner(arr, i):\n",
    "#     \"\"\"\n",
    "#     Provides an additional check when\n",
    "#     we have not safe sequence.\n",
    "#     We remove a single value: i.e either arr[i]\n",
    "#     If this passes the is safe check then the seq is safe\n",
    "#     \"\"\"\n",
    "#     # remove ith value and the call is safe again\n",
    "#     arr = arr.copy()\n",
    "#     arr.remove(i)\n",
    "#     return is_safe_v2(arr, increasing) or is_safe_v2(arr, decreasing)\n",
    "\n",
    "\n",
    "# def is_safe(arr, safe_range):\n",
    "#     for i in range(1, len(arr)):\n",
    "#         if arr[i] - arr[i-1] not in safe_range:\n",
    "#             return problem_dampner(arr, i)\n",
    "#     return True\n",
    "\n",
    "\n",
    "# def is_safe_v2(arr, safe_range):\n",
    "#     for i in range(1, len(arr)):\n",
    "#         if arr[i] - arr[i-1] not in safe_range:\n",
    "#             return False\n",
    "#     return True\n",
    "\n",
    "# def is_safe_2(arr, safe_range):\n",
    "#     \"\"\"\n",
    "#         for each item in array we remove each value and execute is_safe\n",
    "#     \"\"\"\n",
    "#     safe = 0\n",
    "#     for i in range(len(arr)):\n",
    "#        new_arr = [arr[j] for j in range(len(arr)) if j!=i]\n",
    "#        safe = is_safe(new_arr, increasing) or is_safe(new_arr, decreasing)\n",
    "#        if safe > 0:\n",
    "#            print(safe, new_arr)\n",
    "#            return True\n",
    "#     return False\n",
    "            \n",
    "# def day2_part2(data):    \n",
    "#     increasing = range(1, 4)\n",
    "#     decreasing = range(-3, 0)\n",
    "#     safe = 0\n",
    "#     check_safe = 0\n",
    "#     for line in data.split('\\n'):\n",
    "#         seq = [int(i) for i in line.split()]\n",
    "#         check_safe = is_safe(seq, increasing) or is_safe(seq, decreasing)\n",
    "#         print(check_safe, seq)\n",
    "#         if not check_safe:\n",
    "#             check_safe = is_safe_2(seq, increasing) or is_safe_2(seq, decreasing)\n",
    "#         safe += check_safe\n",
    "#         print(safe)\n",
    "#         check_safe = False\n",
    "#     return safe"
   ]
  },
  {
   "cell_type": "code",
   "execution_count": 278,
   "id": "b0794534-f797-4ba1-8b40-8ef0fcf4b6d4",
   "metadata": {},
   "outputs": [],
   "source": [
    "# Need ro run intial check as normal and then run another check which iteratively removes one value and performs another check\n",
    "# we need to run check for each number removed\n",
    "\n",
    "from typing import List\n",
    "\n",
    "class SolutionDay2:\n",
    "\n",
    "    def __init__(self, filename):\n",
    "        with open(filename) as file:\n",
    "            self.data = file.read()\n",
    "\n",
    "    def is_safe(self, seq: List[int]) -> bool:\n",
    "        \"\"\"\n",
    "        Check if abs values between numbers are\n",
    "        within 1-3.\n",
    "        Also Check if all differences are > 0 or < 0 \n",
    "        for continous sequence\n",
    "        \"\"\"\n",
    "        deltas = [a-b for a,b in zip(seq, seq[1:])]\n",
    "        is_monotonic = all(i > 0 for i in deltas) or all(i < 0 for i in deltas)\n",
    "        is_range = all(1 <= abs(i) <= 3 for i in deltas)\n",
    "        if is_monotonic and is_range:\n",
    "            return True\n",
    "        return False\n",
    "        \n",
    "    \n",
    "    def is_safe_dampner(self):\n",
    "        \"\"\"\n",
    "            If we initially fail the is_safe\n",
    "            we run another check where we remove\n",
    "            iteratively remove 1 item from the seq\n",
    "            and check is_safe again, if its safe\n",
    "            we break the loop for that seq and increase\n",
    "            the safe count\n",
    "        \"\"\"\n",
    "        pass\n",
    "\n",
    "    def part1(self):\n",
    "        \"\"\"\n",
    "\n",
    "        \"\"\"\n",
    "        self.safe_count = 0\n",
    "        for line in self.data.split('\\n'):\n",
    "            seq = [int(i) for i in line.split()]\n",
    "            self.safe_count += self.is_safe(seq)\n",
    "        return self.safe_count\n",
    "        \n",
    "\n",
    "    def main(self):\n",
    "        \"\"\"\n",
    "        \n",
    "        \"\"\"\n",
    "        part1_result = self.part1()\n",
    "        return part1_result"
   ]
  },
  {
   "cell_type": "code",
   "execution_count": 279,
   "id": "c2045f76-3506-46a1-8578-8537678819c0",
   "metadata": {},
   "outputs": [
    {
     "data": {
      "text/plain": [
       "371"
      ]
     },
     "execution_count": 279,
     "metadata": {},
     "output_type": "execute_result"
    }
   ],
   "source": [
    "filename = 'day2/day2.txt'\n",
    "s = SolutionDay2(filename)\n",
    "\n",
    "part1_result = s.main()\n",
    "part1_result"
   ]
  },
  {
   "cell_type": "code",
   "execution_count": null,
   "id": "21488ea8-3577-43de-b380-bb948454466f",
   "metadata": {},
   "outputs": [],
   "source": []
  },
  {
   "cell_type": "code",
   "execution_count": null,
   "id": "52c99b5f-cf93-4bf4-b8c3-c218640a9196",
   "metadata": {},
   "outputs": [],
   "source": []
  },
  {
   "cell_type": "code",
   "execution_count": null,
   "id": "8e3d9c6f-cdad-4b06-ac8e-45156c9a7cc6",
   "metadata": {},
   "outputs": [],
   "source": []
  },
  {
   "cell_type": "code",
   "execution_count": null,
   "id": "e9fe1c21-4861-44c0-8bc6-a7ad851079ca",
   "metadata": {},
   "outputs": [],
   "source": []
  },
  {
   "cell_type": "code",
   "execution_count": null,
   "id": "3026d51a-4cf6-491a-be93-c6ebc8f2758d",
   "metadata": {},
   "outputs": [],
   "source": []
  },
  {
   "cell_type": "code",
   "execution_count": null,
   "id": "6092ba2d-1d11-4e86-9dc6-39abdf1204c5",
   "metadata": {},
   "outputs": [],
   "source": []
  },
  {
   "cell_type": "code",
   "execution_count": null,
   "id": "2b72048a-7a6d-4951-9bbb-d2e9becd4ded",
   "metadata": {},
   "outputs": [],
   "source": []
  },
  {
   "cell_type": "code",
   "execution_count": null,
   "id": "c139c6b0-8f4a-4ccc-a320-97dab6552243",
   "metadata": {},
   "outputs": [],
   "source": []
  },
  {
   "cell_type": "code",
   "execution_count": null,
   "id": "8333a285-afc1-4afc-9259-c4b6893ef1ab",
   "metadata": {},
   "outputs": [],
   "source": []
  },
  {
   "cell_type": "code",
   "execution_count": null,
   "id": "2f28e8af-16ee-4677-ba7d-d41e12674406",
   "metadata": {},
   "outputs": [],
   "source": []
  }
 ],
 "metadata": {
  "kernelspec": {
   "display_name": "mlforecast",
   "language": "python",
   "name": "mlforecast"
  },
  "language_info": {
   "codemirror_mode": {
    "name": "ipython",
    "version": 3
   },
   "file_extension": ".py",
   "mimetype": "text/x-python",
   "name": "python",
   "nbconvert_exporter": "python",
   "pygments_lexer": "ipython3",
   "version": "3.9.19"
  }
 },
 "nbformat": 4,
 "nbformat_minor": 5
}
